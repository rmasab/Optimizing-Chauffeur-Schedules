{
 "cells": [
  {
   "cell_type": "code",
   "execution_count": 1,
   "metadata": {},
   "outputs": [],
   "source": [
    "import pandas as pd\n",
    "import seaborn as sns\n",
    "import matplotlib.pyplot as plt\n",
    "import numpy as np\n",
    "from scipy import stats\n",
    "import haversine as hs\n",
    "import mpu"
   ]
  },
  {
   "cell_type": "code",
   "execution_count": 2,
   "metadata": {},
   "outputs": [],
   "source": [
    "df = pd.read_csv('taxi1.csv')"
   ]
  },
  {
   "cell_type": "code",
   "execution_count": 3,
   "metadata": {},
   "outputs": [
    {
     "data": {
      "text/html": [
       "<div>\n",
       "<style scoped>\n",
       "    .dataframe tbody tr th:only-of-type {\n",
       "        vertical-align: middle;\n",
       "    }\n",
       "\n",
       "    .dataframe tbody tr th {\n",
       "        vertical-align: top;\n",
       "    }\n",
       "\n",
       "    .dataframe thead th {\n",
       "        text-align: right;\n",
       "    }\n",
       "</style>\n",
       "<table border=\"1\" class=\"dataframe\">\n",
       "  <thead>\n",
       "    <tr style=\"text-align: right;\">\n",
       "      <th></th>\n",
       "      <th>id</th>\n",
       "      <th>vendor_id</th>\n",
       "      <th>pickup_datetime</th>\n",
       "      <th>dropoff_datetime</th>\n",
       "      <th>passenger_count</th>\n",
       "      <th>pickup_longitude</th>\n",
       "      <th>pickup_latitude</th>\n",
       "      <th>dropoff_longitude</th>\n",
       "      <th>dropoff_latitude</th>\n",
       "      <th>store_and_fwd_flag</th>\n",
       "      <th>trip_duration</th>\n",
       "    </tr>\n",
       "  </thead>\n",
       "  <tbody>\n",
       "    <tr>\n",
       "      <th>0</th>\n",
       "      <td>id2875421</td>\n",
       "      <td>2</td>\n",
       "      <td>2016-03-14 17:24:55</td>\n",
       "      <td>2016-03-14 17:32:30</td>\n",
       "      <td>1</td>\n",
       "      <td>-73.982155</td>\n",
       "      <td>40.767937</td>\n",
       "      <td>-73.964630</td>\n",
       "      <td>40.765602</td>\n",
       "      <td>N</td>\n",
       "      <td>455</td>\n",
       "    </tr>\n",
       "    <tr>\n",
       "      <th>1</th>\n",
       "      <td>id2377394</td>\n",
       "      <td>1</td>\n",
       "      <td>2016-06-12 00:43:35</td>\n",
       "      <td>2016-06-12 00:54:38</td>\n",
       "      <td>1</td>\n",
       "      <td>-73.980415</td>\n",
       "      <td>40.738564</td>\n",
       "      <td>-73.999481</td>\n",
       "      <td>40.731152</td>\n",
       "      <td>N</td>\n",
       "      <td>663</td>\n",
       "    </tr>\n",
       "    <tr>\n",
       "      <th>2</th>\n",
       "      <td>id3858529</td>\n",
       "      <td>2</td>\n",
       "      <td>2016-01-19 11:35:24</td>\n",
       "      <td>2016-01-19 12:10:48</td>\n",
       "      <td>1</td>\n",
       "      <td>-73.979027</td>\n",
       "      <td>40.763939</td>\n",
       "      <td>-74.005333</td>\n",
       "      <td>40.710087</td>\n",
       "      <td>N</td>\n",
       "      <td>2124</td>\n",
       "    </tr>\n",
       "    <tr>\n",
       "      <th>3</th>\n",
       "      <td>id3504673</td>\n",
       "      <td>2</td>\n",
       "      <td>2016-04-06 19:32:31</td>\n",
       "      <td>2016-04-06 19:39:40</td>\n",
       "      <td>1</td>\n",
       "      <td>-74.010040</td>\n",
       "      <td>40.719971</td>\n",
       "      <td>-74.012268</td>\n",
       "      <td>40.706718</td>\n",
       "      <td>N</td>\n",
       "      <td>429</td>\n",
       "    </tr>\n",
       "    <tr>\n",
       "      <th>4</th>\n",
       "      <td>id2181028</td>\n",
       "      <td>2</td>\n",
       "      <td>2016-03-26 13:30:55</td>\n",
       "      <td>2016-03-26 13:38:10</td>\n",
       "      <td>1</td>\n",
       "      <td>-73.973053</td>\n",
       "      <td>40.793209</td>\n",
       "      <td>-73.972923</td>\n",
       "      <td>40.782520</td>\n",
       "      <td>N</td>\n",
       "      <td>435</td>\n",
       "    </tr>\n",
       "  </tbody>\n",
       "</table>\n",
       "</div>"
      ],
      "text/plain": [
       "          id  vendor_id      pickup_datetime     dropoff_datetime  \\\n",
       "0  id2875421          2  2016-03-14 17:24:55  2016-03-14 17:32:30   \n",
       "1  id2377394          1  2016-06-12 00:43:35  2016-06-12 00:54:38   \n",
       "2  id3858529          2  2016-01-19 11:35:24  2016-01-19 12:10:48   \n",
       "3  id3504673          2  2016-04-06 19:32:31  2016-04-06 19:39:40   \n",
       "4  id2181028          2  2016-03-26 13:30:55  2016-03-26 13:38:10   \n",
       "\n",
       "   passenger_count  pickup_longitude  pickup_latitude  dropoff_longitude  \\\n",
       "0                1        -73.982155        40.767937         -73.964630   \n",
       "1                1        -73.980415        40.738564         -73.999481   \n",
       "2                1        -73.979027        40.763939         -74.005333   \n",
       "3                1        -74.010040        40.719971         -74.012268   \n",
       "4                1        -73.973053        40.793209         -73.972923   \n",
       "\n",
       "   dropoff_latitude store_and_fwd_flag  trip_duration  \n",
       "0         40.765602                  N            455  \n",
       "1         40.731152                  N            663  \n",
       "2         40.710087                  N           2124  \n",
       "3         40.706718                  N            429  \n",
       "4         40.782520                  N            435  "
      ]
     },
     "execution_count": 3,
     "metadata": {},
     "output_type": "execute_result"
    }
   ],
   "source": [
    "df.head(5)"
   ]
  },
  {
   "cell_type": "code",
   "execution_count": 4,
   "metadata": {
    "scrolled": true
   },
   "outputs": [
    {
     "name": "stdout",
     "output_type": "stream",
     "text": [
      "978383     3526282\n",
      "924150     2227612\n",
      "680594     2049578\n",
      "355003     1939736\n",
      "1234291      86392\n",
      "295382       86391\n",
      "73816        86390\n",
      "59891        86387\n",
      "1360439      86385\n",
      "753765       86379\n",
      "Name: trip_duration, dtype: int64\n"
     ]
    }
   ],
   "source": [
    "#let's see outliers\n",
    "print( df['trip_duration'].nlargest(10))"
   ]
  },
  {
   "cell_type": "code",
   "execution_count": 5,
   "metadata": {},
   "outputs": [],
   "source": [
    "df=df[df.trip_duration!=df.trip_duration.max()]"
   ]
  },
  {
   "cell_type": "code",
   "execution_count": 6,
   "metadata": {},
   "outputs": [
    {
     "name": "stdout",
     "output_type": "stream",
     "text": [
      "924150     2227612\n",
      "680594     2049578\n",
      "355003     1939736\n",
      "1234291      86392\n",
      "295382       86391\n",
      "73816        86390\n",
      "59891        86387\n",
      "1360439      86385\n",
      "753765       86379\n",
      "91717        86378\n",
      "Name: trip_duration, dtype: int64\n"
     ]
    }
   ],
   "source": [
    "print( df['trip_duration'].nlargest(10))"
   ]
  },
  {
   "cell_type": "code",
   "execution_count": 7,
   "metadata": {},
   "outputs": [],
   "source": [
    "df=df[df.trip_duration!=df.trip_duration.max()]"
   ]
  },
  {
   "cell_type": "code",
   "execution_count": 8,
   "metadata": {},
   "outputs": [
    {
     "name": "stdout",
     "output_type": "stream",
     "text": [
      "680594     2049578\n",
      "355003     1939736\n",
      "1234291      86392\n",
      "295382       86391\n",
      "73816        86390\n",
      "59891        86387\n",
      "1360439      86385\n",
      "753765       86379\n",
      "91717        86378\n",
      "1221666      86378\n",
      "Name: trip_duration, dtype: int64\n"
     ]
    }
   ],
   "source": [
    "print( df['trip_duration'].nlargest(10))"
   ]
  },
  {
   "cell_type": "code",
   "execution_count": 9,
   "metadata": {},
   "outputs": [],
   "source": [
    "df=df[df.trip_duration!=df.trip_duration.max()]"
   ]
  },
  {
   "cell_type": "code",
   "execution_count": 10,
   "metadata": {},
   "outputs": [
    {
     "name": "stdout",
     "output_type": "stream",
     "text": [
      "355003     1939736\n",
      "1234291      86392\n",
      "295382       86391\n",
      "73816        86390\n",
      "59891        86387\n",
      "1360439      86385\n",
      "753765       86379\n",
      "91717        86378\n",
      "1221666      86378\n",
      "66346        86377\n",
      "Name: trip_duration, dtype: int64\n"
     ]
    }
   ],
   "source": [
    "print( df['trip_duration'].nlargest(10))"
   ]
  },
  {
   "cell_type": "code",
   "execution_count": 11,
   "metadata": {},
   "outputs": [],
   "source": [
    "df=df[df.trip_duration!=df.trip_duration.max()]"
   ]
  },
  {
   "cell_type": "code",
   "execution_count": 12,
   "metadata": {},
   "outputs": [
    {
     "name": "stdout",
     "output_type": "stream",
     "text": [
      "1234291    86392\n",
      "295382     86391\n",
      "73816      86390\n",
      "59891      86387\n",
      "1360439    86385\n",
      "Name: trip_duration, dtype: int64\n"
     ]
    }
   ],
   "source": [
    "print( df['trip_duration'].nlargest(5))"
   ]
  },
  {
   "cell_type": "code",
   "execution_count": 48,
   "metadata": {
    "scrolled": true
   },
   "outputs": [
    {
     "data": {
      "text/html": [
       "<div>\n",
       "<style scoped>\n",
       "    .dataframe tbody tr th:only-of-type {\n",
       "        vertical-align: middle;\n",
       "    }\n",
       "\n",
       "    .dataframe tbody tr th {\n",
       "        vertical-align: top;\n",
       "    }\n",
       "\n",
       "    .dataframe thead th {\n",
       "        text-align: right;\n",
       "    }\n",
       "</style>\n",
       "<table border=\"1\" class=\"dataframe\">\n",
       "  <thead>\n",
       "    <tr style=\"text-align: right;\">\n",
       "      <th></th>\n",
       "      <th>id</th>\n",
       "      <th>vendor_id</th>\n",
       "      <th>pickup_datetime</th>\n",
       "      <th>dropoff_datetime</th>\n",
       "      <th>passenger_count</th>\n",
       "      <th>pickup_longitude</th>\n",
       "      <th>pickup_latitude</th>\n",
       "      <th>dropoff_longitude</th>\n",
       "      <th>dropoff_latitude</th>\n",
       "      <th>store_and_fwd_flag</th>\n",
       "      <th>...</th>\n",
       "      <th>dropoff_time</th>\n",
       "      <th>pickup_longlat</th>\n",
       "      <th>dropoff_longlat</th>\n",
       "      <th>distance</th>\n",
       "      <th>pickup_dayofweek</th>\n",
       "      <th>pickup_weekday_name</th>\n",
       "      <th>pickup_hour</th>\n",
       "      <th>pickup_month</th>\n",
       "      <th>pickup_day</th>\n",
       "      <th>shift</th>\n",
       "    </tr>\n",
       "  </thead>\n",
       "  <tbody>\n",
       "    <tr>\n",
       "      <th>0</th>\n",
       "      <td>id2875421</td>\n",
       "      <td>2</td>\n",
       "      <td>2016-03-14 17:24:55</td>\n",
       "      <td>2016-03-14 17:32:30</td>\n",
       "      <td>1</td>\n",
       "      <td>-73.98215484619139203915</td>\n",
       "      <td>40.76793670654296875000</td>\n",
       "      <td>-73.96463012695312500000</td>\n",
       "      <td>40.76560211181640625000</td>\n",
       "      <td>N</td>\n",
       "      <td>...</td>\n",
       "      <td>17:32:30</td>\n",
       "      <td>(40.76793670654297, -73.98215484619139)</td>\n",
       "      <td>(40.765602111816406, -73.96463012695312)</td>\n",
       "      <td>1.49852077964629848417</td>\n",
       "      <td>0</td>\n",
       "      <td>Monday</td>\n",
       "      <td>17</td>\n",
       "      <td>3</td>\n",
       "      <td>14</td>\n",
       "      <td>PM</td>\n",
       "    </tr>\n",
       "    <tr>\n",
       "      <th>2</th>\n",
       "      <td>id3858529</td>\n",
       "      <td>2</td>\n",
       "      <td>2016-01-19 11:35:24</td>\n",
       "      <td>2016-01-19 12:10:48</td>\n",
       "      <td>1</td>\n",
       "      <td>-73.97902679443357953915</td>\n",
       "      <td>40.76393890380859375000</td>\n",
       "      <td>-74.00533294677734375000</td>\n",
       "      <td>40.71008682250977273043</td>\n",
       "      <td>N</td>\n",
       "      <td>...</td>\n",
       "      <td>12:10:48</td>\n",
       "      <td>(40.763938903808594, -73.97902679443358)</td>\n",
       "      <td>(40.71008682250977, -74.00533294677734)</td>\n",
       "      <td>6.38509849525261508063</td>\n",
       "      <td>1</td>\n",
       "      <td>Tuesday</td>\n",
       "      <td>11</td>\n",
       "      <td>1</td>\n",
       "      <td>19</td>\n",
       "      <td>AM</td>\n",
       "    </tr>\n",
       "    <tr>\n",
       "      <th>4</th>\n",
       "      <td>id2181028</td>\n",
       "      <td>2</td>\n",
       "      <td>2016-03-26 13:30:55</td>\n",
       "      <td>2016-03-26 13:38:10</td>\n",
       "      <td>1</td>\n",
       "      <td>-73.97305297851562500000</td>\n",
       "      <td>40.79320907592772726957</td>\n",
       "      <td>-73.97292327880859375000</td>\n",
       "      <td>40.78252029418945312500</td>\n",
       "      <td>N</td>\n",
       "      <td>...</td>\n",
       "      <td>13:38:10</td>\n",
       "      <td>(40.79320907592773, -73.97305297851562)</td>\n",
       "      <td>(40.78252029418945, -73.9729232788086)</td>\n",
       "      <td>1.18858845933343104662</td>\n",
       "      <td>5</td>\n",
       "      <td>Saturday</td>\n",
       "      <td>13</td>\n",
       "      <td>3</td>\n",
       "      <td>26</td>\n",
       "      <td>AM</td>\n",
       "    </tr>\n",
       "  </tbody>\n",
       "</table>\n",
       "<p>3 rows × 24 columns</p>\n",
       "</div>"
      ],
      "text/plain": [
       "          id  vendor_id     pickup_datetime    dropoff_datetime  \\\n",
       "0  id2875421          2 2016-03-14 17:24:55 2016-03-14 17:32:30   \n",
       "2  id3858529          2 2016-01-19 11:35:24 2016-01-19 12:10:48   \n",
       "4  id2181028          2 2016-03-26 13:30:55 2016-03-26 13:38:10   \n",
       "\n",
       "   passenger_count         pickup_longitude         pickup_latitude  \\\n",
       "0                1 -73.98215484619139203915 40.76793670654296875000   \n",
       "2                1 -73.97902679443357953915 40.76393890380859375000   \n",
       "4                1 -73.97305297851562500000 40.79320907592772726957   \n",
       "\n",
       "         dropoff_longitude        dropoff_latitude store_and_fwd_flag  ...  \\\n",
       "0 -73.96463012695312500000 40.76560211181640625000                  N  ...   \n",
       "2 -74.00533294677734375000 40.71008682250977273043                  N  ...   \n",
       "4 -73.97292327880859375000 40.78252029418945312500                  N  ...   \n",
       "\n",
       "   dropoff_time                            pickup_longlat  \\\n",
       "0      17:32:30   (40.76793670654297, -73.98215484619139)   \n",
       "2      12:10:48  (40.763938903808594, -73.97902679443358)   \n",
       "4      13:38:10   (40.79320907592773, -73.97305297851562)   \n",
       "\n",
       "                            dropoff_longlat               distance  \\\n",
       "0  (40.765602111816406, -73.96463012695312) 1.49852077964629848417   \n",
       "2   (40.71008682250977, -74.00533294677734) 6.38509849525261508063   \n",
       "4    (40.78252029418945, -73.9729232788086) 1.18858845933343104662   \n",
       "\n",
       "  pickup_dayofweek pickup_weekday_name pickup_hour  pickup_month  pickup_day  \\\n",
       "0                0              Monday          17             3          14   \n",
       "2                1             Tuesday          11             1          19   \n",
       "4                5            Saturday          13             3          26   \n",
       "\n",
       "  shift  \n",
       "0    PM  \n",
       "2    AM  \n",
       "4    AM  \n",
       "\n",
       "[3 rows x 24 columns]"
      ]
     },
     "execution_count": 48,
     "metadata": {},
     "output_type": "execute_result"
    }
   ],
   "source": [
    "df.head(3)"
   ]
  },
  {
   "cell_type": "code",
   "execution_count": 14,
   "metadata": {},
   "outputs": [],
   "source": [
    "#removing this many randomized rows to have 1 million\n",
    "remove_n = 458644\n",
    "drop_indices = np.random.choice(df.index, remove_n, replace=False)\n",
    "df = df.drop(drop_indices)"
   ]
  },
  {
   "cell_type": "code",
   "execution_count": 15,
   "metadata": {
    "scrolled": true
   },
   "outputs": [
    {
     "data": {
      "text/plain": [
       "(999996, 11)"
      ]
     },
     "execution_count": 15,
     "metadata": {},
     "output_type": "execute_result"
    }
   ],
   "source": [
    "df.shape"
   ]
  },
  {
   "cell_type": "code",
   "execution_count": 16,
   "metadata": {},
   "outputs": [],
   "source": [
    "#new columns pick up date and pick up times\n",
    "df['pickup_date'] = pd.to_datetime(df['pickup_datetime']).dt.date\n",
    "df['pickup_time'] = pd.to_datetime(df['pickup_datetime']).dt.time"
   ]
  },
  {
   "cell_type": "code",
   "execution_count": 17,
   "metadata": {},
   "outputs": [],
   "source": [
    "#new columns drop off and pick up\n",
    "df['dropoff_date'] = pd.to_datetime(df['dropoff_datetime']).dt.date\n",
    "df['dropoff_time'] = pd.to_datetime(df['dropoff_datetime']).dt.time"
   ]
  },
  {
   "cell_type": "code",
   "execution_count": 18,
   "metadata": {},
   "outputs": [],
   "source": [
    "#combine pickup latitude and longitude\n",
    "df['pickup_longlat'] = list(zip(df.pickup_latitude, df.pickup_longitude))"
   ]
  },
  {
   "cell_type": "code",
   "execution_count": 19,
   "metadata": {},
   "outputs": [],
   "source": [
    "#combine dropoff latitude and longitude\n",
    "df['dropoff_longlat'] = list(zip(df.dropoff_latitude, df.dropoff_longitude))"
   ]
  },
  {
   "cell_type": "code",
   "execution_count": 20,
   "metadata": {},
   "outputs": [],
   "source": [
    "#calculate distance from given coordinates in miles\n",
    "import mpu\n",
    "df['distance'] = df.apply(lambda x: mpu.haversine_distance(x['pickup_longlat'], x['dropoff_longlat']), 1)"
   ]
  },
  {
   "cell_type": "code",
   "execution_count": 21,
   "metadata": {},
   "outputs": [],
   "source": [
    "df['pickup_datetime'] = pd.to_datetime(df['pickup_datetime'])\n",
    "df['dropoff_datetime'] = pd.to_datetime(df['dropoff_datetime'])"
   ]
  },
  {
   "cell_type": "code",
   "execution_count": 22,
   "metadata": {},
   "outputs": [],
   "source": [
    "#new columns parsing day of week month etc\n",
    "df[\"pickup_dayofweek\"] = df.pickup_datetime.dt.dayofweek\n",
    "df[\"pickup_weekday_name\"] = df.pickup_datetime.dt.day_name()\n",
    "df[\"pickup_hour\"] = df.pickup_datetime.dt.hour\n",
    "df[\"pickup_month\"] = df.pickup_datetime.dt.month\n",
    "df[\"pickup_day\"] = df['pickup_datetime'].dt.day"
   ]
  },
  {
   "cell_type": "code",
   "execution_count": 23,
   "metadata": {
    "scrolled": true
   },
   "outputs": [
    {
     "data": {
      "text/html": [
       "<div>\n",
       "<style scoped>\n",
       "    .dataframe tbody tr th:only-of-type {\n",
       "        vertical-align: middle;\n",
       "    }\n",
       "\n",
       "    .dataframe tbody tr th {\n",
       "        vertical-align: top;\n",
       "    }\n",
       "\n",
       "    .dataframe thead th {\n",
       "        text-align: right;\n",
       "    }\n",
       "</style>\n",
       "<table border=\"1\" class=\"dataframe\">\n",
       "  <thead>\n",
       "    <tr style=\"text-align: right;\">\n",
       "      <th></th>\n",
       "      <th>id</th>\n",
       "      <th>vendor_id</th>\n",
       "      <th>pickup_datetime</th>\n",
       "      <th>dropoff_datetime</th>\n",
       "      <th>passenger_count</th>\n",
       "      <th>pickup_longitude</th>\n",
       "      <th>pickup_latitude</th>\n",
       "      <th>dropoff_longitude</th>\n",
       "      <th>dropoff_latitude</th>\n",
       "      <th>store_and_fwd_flag</th>\n",
       "      <th>...</th>\n",
       "      <th>dropoff_date</th>\n",
       "      <th>dropoff_time</th>\n",
       "      <th>pickup_longlat</th>\n",
       "      <th>dropoff_longlat</th>\n",
       "      <th>distance</th>\n",
       "      <th>pickup_dayofweek</th>\n",
       "      <th>pickup_weekday_name</th>\n",
       "      <th>pickup_hour</th>\n",
       "      <th>pickup_month</th>\n",
       "      <th>pickup_day</th>\n",
       "    </tr>\n",
       "  </thead>\n",
       "  <tbody>\n",
       "    <tr>\n",
       "      <th>0</th>\n",
       "      <td>id2875421</td>\n",
       "      <td>2</td>\n",
       "      <td>2016-03-14 17:24:55</td>\n",
       "      <td>2016-03-14 17:32:30</td>\n",
       "      <td>1</td>\n",
       "      <td>-73.982155</td>\n",
       "      <td>40.767937</td>\n",
       "      <td>-73.964630</td>\n",
       "      <td>40.765602</td>\n",
       "      <td>N</td>\n",
       "      <td>...</td>\n",
       "      <td>2016-03-14</td>\n",
       "      <td>17:32:30</td>\n",
       "      <td>(40.76793670654297, -73.98215484619139)</td>\n",
       "      <td>(40.765602111816406, -73.96463012695312)</td>\n",
       "      <td>1.498521</td>\n",
       "      <td>0</td>\n",
       "      <td>Monday</td>\n",
       "      <td>17</td>\n",
       "      <td>3</td>\n",
       "      <td>14</td>\n",
       "    </tr>\n",
       "    <tr>\n",
       "      <th>2</th>\n",
       "      <td>id3858529</td>\n",
       "      <td>2</td>\n",
       "      <td>2016-01-19 11:35:24</td>\n",
       "      <td>2016-01-19 12:10:48</td>\n",
       "      <td>1</td>\n",
       "      <td>-73.979027</td>\n",
       "      <td>40.763939</td>\n",
       "      <td>-74.005333</td>\n",
       "      <td>40.710087</td>\n",
       "      <td>N</td>\n",
       "      <td>...</td>\n",
       "      <td>2016-01-19</td>\n",
       "      <td>12:10:48</td>\n",
       "      <td>(40.763938903808594, -73.97902679443358)</td>\n",
       "      <td>(40.71008682250977, -74.00533294677734)</td>\n",
       "      <td>6.385098</td>\n",
       "      <td>1</td>\n",
       "      <td>Tuesday</td>\n",
       "      <td>11</td>\n",
       "      <td>1</td>\n",
       "      <td>19</td>\n",
       "    </tr>\n",
       "    <tr>\n",
       "      <th>4</th>\n",
       "      <td>id2181028</td>\n",
       "      <td>2</td>\n",
       "      <td>2016-03-26 13:30:55</td>\n",
       "      <td>2016-03-26 13:38:10</td>\n",
       "      <td>1</td>\n",
       "      <td>-73.973053</td>\n",
       "      <td>40.793209</td>\n",
       "      <td>-73.972923</td>\n",
       "      <td>40.782520</td>\n",
       "      <td>N</td>\n",
       "      <td>...</td>\n",
       "      <td>2016-03-26</td>\n",
       "      <td>13:38:10</td>\n",
       "      <td>(40.79320907592773, -73.97305297851562)</td>\n",
       "      <td>(40.78252029418945, -73.9729232788086)</td>\n",
       "      <td>1.188588</td>\n",
       "      <td>5</td>\n",
       "      <td>Saturday</td>\n",
       "      <td>13</td>\n",
       "      <td>3</td>\n",
       "      <td>26</td>\n",
       "    </tr>\n",
       "    <tr>\n",
       "      <th>5</th>\n",
       "      <td>id0801584</td>\n",
       "      <td>2</td>\n",
       "      <td>2016-01-30 22:01:40</td>\n",
       "      <td>2016-01-30 22:09:03</td>\n",
       "      <td>6</td>\n",
       "      <td>-73.982857</td>\n",
       "      <td>40.742195</td>\n",
       "      <td>-73.992081</td>\n",
       "      <td>40.749184</td>\n",
       "      <td>N</td>\n",
       "      <td>...</td>\n",
       "      <td>2016-01-30</td>\n",
       "      <td>22:09:03</td>\n",
       "      <td>(40.74219512939453, -73.9828567504883)</td>\n",
       "      <td>(40.749183654785156, -73.99208068847656)</td>\n",
       "      <td>1.098942</td>\n",
       "      <td>5</td>\n",
       "      <td>Saturday</td>\n",
       "      <td>22</td>\n",
       "      <td>1</td>\n",
       "      <td>30</td>\n",
       "    </tr>\n",
       "    <tr>\n",
       "      <th>7</th>\n",
       "      <td>id1324603</td>\n",
       "      <td>2</td>\n",
       "      <td>2016-05-21 07:54:58</td>\n",
       "      <td>2016-05-21 08:20:49</td>\n",
       "      <td>1</td>\n",
       "      <td>-73.969276</td>\n",
       "      <td>40.797779</td>\n",
       "      <td>-73.922470</td>\n",
       "      <td>40.760559</td>\n",
       "      <td>N</td>\n",
       "      <td>...</td>\n",
       "      <td>2016-05-21</td>\n",
       "      <td>08:20:49</td>\n",
       "      <td>(40.79777908325195, -73.96927642822266)</td>\n",
       "      <td>(40.76055908203125, -73.92247009277344)</td>\n",
       "      <td>5.714981</td>\n",
       "      <td>5</td>\n",
       "      <td>Saturday</td>\n",
       "      <td>7</td>\n",
       "      <td>5</td>\n",
       "      <td>21</td>\n",
       "    </tr>\n",
       "  </tbody>\n",
       "</table>\n",
       "<p>5 rows × 23 columns</p>\n",
       "</div>"
      ],
      "text/plain": [
       "          id  vendor_id     pickup_datetime    dropoff_datetime  \\\n",
       "0  id2875421          2 2016-03-14 17:24:55 2016-03-14 17:32:30   \n",
       "2  id3858529          2 2016-01-19 11:35:24 2016-01-19 12:10:48   \n",
       "4  id2181028          2 2016-03-26 13:30:55 2016-03-26 13:38:10   \n",
       "5  id0801584          2 2016-01-30 22:01:40 2016-01-30 22:09:03   \n",
       "7  id1324603          2 2016-05-21 07:54:58 2016-05-21 08:20:49   \n",
       "\n",
       "   passenger_count  pickup_longitude  pickup_latitude  dropoff_longitude  \\\n",
       "0                1        -73.982155        40.767937         -73.964630   \n",
       "2                1        -73.979027        40.763939         -74.005333   \n",
       "4                1        -73.973053        40.793209         -73.972923   \n",
       "5                6        -73.982857        40.742195         -73.992081   \n",
       "7                1        -73.969276        40.797779         -73.922470   \n",
       "\n",
       "   dropoff_latitude store_and_fwd_flag  ...  dropoff_date dropoff_time  \\\n",
       "0         40.765602                  N  ...    2016-03-14     17:32:30   \n",
       "2         40.710087                  N  ...    2016-01-19     12:10:48   \n",
       "4         40.782520                  N  ...    2016-03-26     13:38:10   \n",
       "5         40.749184                  N  ...    2016-01-30     22:09:03   \n",
       "7         40.760559                  N  ...    2016-05-21     08:20:49   \n",
       "\n",
       "                             pickup_longlat  \\\n",
       "0   (40.76793670654297, -73.98215484619139)   \n",
       "2  (40.763938903808594, -73.97902679443358)   \n",
       "4   (40.79320907592773, -73.97305297851562)   \n",
       "5    (40.74219512939453, -73.9828567504883)   \n",
       "7   (40.79777908325195, -73.96927642822266)   \n",
       "\n",
       "                            dropoff_longlat  distance pickup_dayofweek  \\\n",
       "0  (40.765602111816406, -73.96463012695312)  1.498521                0   \n",
       "2   (40.71008682250977, -74.00533294677734)  6.385098                1   \n",
       "4    (40.78252029418945, -73.9729232788086)  1.188588                5   \n",
       "5  (40.749183654785156, -73.99208068847656)  1.098942                5   \n",
       "7   (40.76055908203125, -73.92247009277344)  5.714981                5   \n",
       "\n",
       "  pickup_weekday_name  pickup_hour  pickup_month pickup_day  \n",
       "0              Monday           17             3         14  \n",
       "2             Tuesday           11             1         19  \n",
       "4            Saturday           13             3         26  \n",
       "5            Saturday           22             1         30  \n",
       "7            Saturday            7             5         21  \n",
       "\n",
       "[5 rows x 23 columns]"
      ]
     },
     "execution_count": 23,
     "metadata": {},
     "output_type": "execute_result"
    }
   ],
   "source": [
    "#check if everything is fine\n",
    "df.head(5)"
   ]
  },
  {
   "cell_type": "code",
   "execution_count": 24,
   "metadata": {},
   "outputs": [
    {
     "data": {
      "text/plain": [
       "passenger_count\n",
       "0        48\n",
       "1    708647\n",
       "2    143768\n",
       "3     41233\n",
       "4     19505\n",
       "5     53534\n",
       "6     33258\n",
       "7         2\n",
       "9         1\n",
       "Name: distance, dtype: int64"
      ]
     },
     "execution_count": 24,
     "metadata": {},
     "output_type": "execute_result"
    }
   ],
   "source": [
    "#passengers count\n",
    "passcount = df.groupby('passenger_count')['distance'].count()\n",
    "passcount"
   ]
  },
  {
   "cell_type": "code",
   "execution_count": 25,
   "metadata": {},
   "outputs": [
    {
     "data": {
      "text/plain": [
       "pickup_hour\n",
       "0     36424\n",
       "1     26498\n",
       "2     19169\n",
       "3     14248\n",
       "4     10783\n",
       "5     10288\n",
       "6     22895\n",
       "7     38054\n",
       "8     46125\n",
       "9     46442\n",
       "10    44835\n",
       "11    46903\n",
       "12    49323\n",
       "13    49188\n",
       "14    50823\n",
       "15    49097\n",
       "16    44352\n",
       "17    52242\n",
       "18    61971\n",
       "19    61769\n",
       "20    57608\n",
       "21    57789\n",
       "22    55256\n",
       "23    47914\n",
       "Name: id, dtype: int64"
      ]
     },
     "execution_count": 25,
     "metadata": {},
     "output_type": "execute_result"
    }
   ],
   "source": [
    "byhour = df.groupby('pickup_hour')\n",
    "byhour = byhour['id'].count()\n",
    "byhour"
   ]
  },
  {
   "cell_type": "code",
   "execution_count": 26,
   "metadata": {},
   "outputs": [
    {
     "data": {
      "text/plain": [
       "pickup_hour\n",
       "0     36424\n",
       "1     26498\n",
       "2     19169\n",
       "3     14248\n",
       "4     10783\n",
       "5     10288\n",
       "6     22895\n",
       "7     38054\n",
       "8     46125\n",
       "9     46442\n",
       "10    44835\n",
       "11    46903\n",
       "12    49323\n",
       "13    49188\n",
       "14    50823\n",
       "15    49097\n",
       "16    44352\n",
       "17    52242\n",
       "18    61971\n",
       "19    61769\n",
       "20    57608\n",
       "21    57789\n",
       "22    55256\n",
       "23    47914\n",
       "Name: id, dtype: int64"
      ]
     },
     "execution_count": 26,
     "metadata": {},
     "output_type": "execute_result"
    }
   ],
   "source": [
    "tripweek = df.groupby('pickup_hour')\n",
    "tripweek = tripweek['id'].count()\n",
    "tripweek"
   ]
  },
  {
   "cell_type": "code",
   "execution_count": 27,
   "metadata": {},
   "outputs": [
    {
     "data": {
      "text/plain": [
       "pickup_month  pickup_day  pickup_weekday_name\n",
       "1             1           Friday                 4945\n",
       "              2           Saturday               4497\n",
       "              3           Sunday                 4302\n",
       "              4           Monday                 4614\n",
       "              5           Tuesday                4946\n",
       "                                                 ... \n",
       "6             26          Sunday                 4881\n",
       "              27          Monday                 4995\n",
       "              28          Tuesday                4958\n",
       "              29          Wednesday              5156\n",
       "              30          Thursday               5146\n",
       "Name: id, Length: 182, dtype: int64"
      ]
     },
     "execution_count": 27,
     "metadata": {},
     "output_type": "execute_result"
    }
   ],
   "source": [
    "trip_week = df.groupby(['pickup_month','pickup_day','pickup_weekday_name'])\n",
    "trip_week = trip_week['id'].count()\n",
    "trip_week"
   ]
  },
  {
   "cell_type": "code",
   "execution_count": 30,
   "metadata": {},
   "outputs": [
    {
     "name": "stdout",
     "output_type": "stream",
     "text": [
      "12\n",
      "12\n"
     ]
    }
   ],
   "source": [
    "#shifts\n",
    "#5am-4pm\n",
    "am = [5,6,7,8,9,10,11,12,13,14,15,16]\n",
    "#5pm-4am\n",
    "pm = [17,18,19,20,21,22,23,24,0,1,2,4]\n",
    "print(len(am))\n",
    "print(len(pm))"
   ]
  },
  {
   "cell_type": "code",
   "execution_count": 31,
   "metadata": {},
   "outputs": [],
   "source": [
    "df['shift'] = df['pickup_hour'].apply(lambda x: 'AM' if x in range(5,16) else 'PM')"
   ]
  },
  {
   "cell_type": "code",
   "execution_count": 32,
   "metadata": {},
   "outputs": [
    {
     "data": {
      "text/html": [
       "<div>\n",
       "<style scoped>\n",
       "    .dataframe tbody tr th:only-of-type {\n",
       "        vertical-align: middle;\n",
       "    }\n",
       "\n",
       "    .dataframe tbody tr th {\n",
       "        vertical-align: top;\n",
       "    }\n",
       "\n",
       "    .dataframe thead th {\n",
       "        text-align: right;\n",
       "    }\n",
       "</style>\n",
       "<table border=\"1\" class=\"dataframe\">\n",
       "  <thead>\n",
       "    <tr style=\"text-align: right;\">\n",
       "      <th></th>\n",
       "      <th>id</th>\n",
       "      <th>vendor_id</th>\n",
       "      <th>pickup_datetime</th>\n",
       "      <th>dropoff_datetime</th>\n",
       "      <th>passenger_count</th>\n",
       "      <th>pickup_longitude</th>\n",
       "      <th>pickup_latitude</th>\n",
       "      <th>dropoff_longitude</th>\n",
       "      <th>dropoff_latitude</th>\n",
       "      <th>store_and_fwd_flag</th>\n",
       "      <th>...</th>\n",
       "      <th>dropoff_time</th>\n",
       "      <th>pickup_longlat</th>\n",
       "      <th>dropoff_longlat</th>\n",
       "      <th>distance</th>\n",
       "      <th>pickup_dayofweek</th>\n",
       "      <th>pickup_weekday_name</th>\n",
       "      <th>pickup_hour</th>\n",
       "      <th>pickup_month</th>\n",
       "      <th>pickup_day</th>\n",
       "      <th>shift</th>\n",
       "    </tr>\n",
       "  </thead>\n",
       "  <tbody>\n",
       "    <tr>\n",
       "      <th>0</th>\n",
       "      <td>id2875421</td>\n",
       "      <td>2</td>\n",
       "      <td>2016-03-14 17:24:55</td>\n",
       "      <td>2016-03-14 17:32:30</td>\n",
       "      <td>1</td>\n",
       "      <td>-73.982155</td>\n",
       "      <td>40.767937</td>\n",
       "      <td>-73.964630</td>\n",
       "      <td>40.765602</td>\n",
       "      <td>N</td>\n",
       "      <td>...</td>\n",
       "      <td>17:32:30</td>\n",
       "      <td>(40.76793670654297, -73.98215484619139)</td>\n",
       "      <td>(40.765602111816406, -73.96463012695312)</td>\n",
       "      <td>1.498521</td>\n",
       "      <td>0</td>\n",
       "      <td>Monday</td>\n",
       "      <td>17</td>\n",
       "      <td>3</td>\n",
       "      <td>14</td>\n",
       "      <td>PM</td>\n",
       "    </tr>\n",
       "    <tr>\n",
       "      <th>2</th>\n",
       "      <td>id3858529</td>\n",
       "      <td>2</td>\n",
       "      <td>2016-01-19 11:35:24</td>\n",
       "      <td>2016-01-19 12:10:48</td>\n",
       "      <td>1</td>\n",
       "      <td>-73.979027</td>\n",
       "      <td>40.763939</td>\n",
       "      <td>-74.005333</td>\n",
       "      <td>40.710087</td>\n",
       "      <td>N</td>\n",
       "      <td>...</td>\n",
       "      <td>12:10:48</td>\n",
       "      <td>(40.763938903808594, -73.97902679443358)</td>\n",
       "      <td>(40.71008682250977, -74.00533294677734)</td>\n",
       "      <td>6.385098</td>\n",
       "      <td>1</td>\n",
       "      <td>Tuesday</td>\n",
       "      <td>11</td>\n",
       "      <td>1</td>\n",
       "      <td>19</td>\n",
       "      <td>AM</td>\n",
       "    </tr>\n",
       "    <tr>\n",
       "      <th>4</th>\n",
       "      <td>id2181028</td>\n",
       "      <td>2</td>\n",
       "      <td>2016-03-26 13:30:55</td>\n",
       "      <td>2016-03-26 13:38:10</td>\n",
       "      <td>1</td>\n",
       "      <td>-73.973053</td>\n",
       "      <td>40.793209</td>\n",
       "      <td>-73.972923</td>\n",
       "      <td>40.782520</td>\n",
       "      <td>N</td>\n",
       "      <td>...</td>\n",
       "      <td>13:38:10</td>\n",
       "      <td>(40.79320907592773, -73.97305297851562)</td>\n",
       "      <td>(40.78252029418945, -73.9729232788086)</td>\n",
       "      <td>1.188588</td>\n",
       "      <td>5</td>\n",
       "      <td>Saturday</td>\n",
       "      <td>13</td>\n",
       "      <td>3</td>\n",
       "      <td>26</td>\n",
       "      <td>AM</td>\n",
       "    </tr>\n",
       "    <tr>\n",
       "      <th>5</th>\n",
       "      <td>id0801584</td>\n",
       "      <td>2</td>\n",
       "      <td>2016-01-30 22:01:40</td>\n",
       "      <td>2016-01-30 22:09:03</td>\n",
       "      <td>6</td>\n",
       "      <td>-73.982857</td>\n",
       "      <td>40.742195</td>\n",
       "      <td>-73.992081</td>\n",
       "      <td>40.749184</td>\n",
       "      <td>N</td>\n",
       "      <td>...</td>\n",
       "      <td>22:09:03</td>\n",
       "      <td>(40.74219512939453, -73.9828567504883)</td>\n",
       "      <td>(40.749183654785156, -73.99208068847656)</td>\n",
       "      <td>1.098942</td>\n",
       "      <td>5</td>\n",
       "      <td>Saturday</td>\n",
       "      <td>22</td>\n",
       "      <td>1</td>\n",
       "      <td>30</td>\n",
       "      <td>PM</td>\n",
       "    </tr>\n",
       "    <tr>\n",
       "      <th>7</th>\n",
       "      <td>id1324603</td>\n",
       "      <td>2</td>\n",
       "      <td>2016-05-21 07:54:58</td>\n",
       "      <td>2016-05-21 08:20:49</td>\n",
       "      <td>1</td>\n",
       "      <td>-73.969276</td>\n",
       "      <td>40.797779</td>\n",
       "      <td>-73.922470</td>\n",
       "      <td>40.760559</td>\n",
       "      <td>N</td>\n",
       "      <td>...</td>\n",
       "      <td>08:20:49</td>\n",
       "      <td>(40.79777908325195, -73.96927642822266)</td>\n",
       "      <td>(40.76055908203125, -73.92247009277344)</td>\n",
       "      <td>5.714981</td>\n",
       "      <td>5</td>\n",
       "      <td>Saturday</td>\n",
       "      <td>7</td>\n",
       "      <td>5</td>\n",
       "      <td>21</td>\n",
       "      <td>AM</td>\n",
       "    </tr>\n",
       "    <tr>\n",
       "      <th>9</th>\n",
       "      <td>id0012891</td>\n",
       "      <td>2</td>\n",
       "      <td>2016-03-10 21:45:01</td>\n",
       "      <td>2016-03-10 22:05:26</td>\n",
       "      <td>1</td>\n",
       "      <td>-73.981049</td>\n",
       "      <td>40.744339</td>\n",
       "      <td>-73.973000</td>\n",
       "      <td>40.789989</td>\n",
       "      <td>N</td>\n",
       "      <td>...</td>\n",
       "      <td>22:05:26</td>\n",
       "      <td>(40.74433898925781, -73.98104858398438)</td>\n",
       "      <td>(40.78998947143555, -73.9729995727539)</td>\n",
       "      <td>5.121162</td>\n",
       "      <td>3</td>\n",
       "      <td>Thursday</td>\n",
       "      <td>21</td>\n",
       "      <td>3</td>\n",
       "      <td>10</td>\n",
       "      <td>PM</td>\n",
       "    </tr>\n",
       "    <tr>\n",
       "      <th>11</th>\n",
       "      <td>id1299289</td>\n",
       "      <td>2</td>\n",
       "      <td>2016-05-15 11:16:11</td>\n",
       "      <td>2016-05-15 11:34:59</td>\n",
       "      <td>4</td>\n",
       "      <td>-73.991531</td>\n",
       "      <td>40.749439</td>\n",
       "      <td>-73.956543</td>\n",
       "      <td>40.770630</td>\n",
       "      <td>N</td>\n",
       "      <td>...</td>\n",
       "      <td>11:34:59</td>\n",
       "      <td>(40.74943923950195, -73.9915313720703)</td>\n",
       "      <td>(40.7706298828125, -73.95654296875)</td>\n",
       "      <td>3.773096</td>\n",
       "      <td>6</td>\n",
       "      <td>Sunday</td>\n",
       "      <td>11</td>\n",
       "      <td>5</td>\n",
       "      <td>15</td>\n",
       "      <td>AM</td>\n",
       "    </tr>\n",
       "    <tr>\n",
       "      <th>12</th>\n",
       "      <td>id1187965</td>\n",
       "      <td>2</td>\n",
       "      <td>2016-02-19 09:52:46</td>\n",
       "      <td>2016-02-19 10:11:20</td>\n",
       "      <td>2</td>\n",
       "      <td>-73.962982</td>\n",
       "      <td>40.756680</td>\n",
       "      <td>-73.984406</td>\n",
       "      <td>40.760719</td>\n",
       "      <td>N</td>\n",
       "      <td>...</td>\n",
       "      <td>10:11:20</td>\n",
       "      <td>(40.7566795349121, -73.96298217773438)</td>\n",
       "      <td>(40.760719299316406, -73.98440551757811)</td>\n",
       "      <td>1.859483</td>\n",
       "      <td>4</td>\n",
       "      <td>Friday</td>\n",
       "      <td>9</td>\n",
       "      <td>2</td>\n",
       "      <td>19</td>\n",
       "      <td>AM</td>\n",
       "    </tr>\n",
       "    <tr>\n",
       "      <th>16</th>\n",
       "      <td>id3379579</td>\n",
       "      <td>2</td>\n",
       "      <td>2016-04-11 17:29:50</td>\n",
       "      <td>2016-04-11 18:08:26</td>\n",
       "      <td>1</td>\n",
       "      <td>-73.991165</td>\n",
       "      <td>40.755562</td>\n",
       "      <td>-73.999290</td>\n",
       "      <td>40.725353</td>\n",
       "      <td>N</td>\n",
       "      <td>...</td>\n",
       "      <td>18:08:26</td>\n",
       "      <td>(40.75556182861328, -73.99116516113281)</td>\n",
       "      <td>(40.7253532409668, -73.9992904663086)</td>\n",
       "      <td>3.428086</td>\n",
       "      <td>0</td>\n",
       "      <td>Monday</td>\n",
       "      <td>17</td>\n",
       "      <td>4</td>\n",
       "      <td>11</td>\n",
       "      <td>PM</td>\n",
       "    </tr>\n",
       "    <tr>\n",
       "      <th>17</th>\n",
       "      <td>id1154431</td>\n",
       "      <td>1</td>\n",
       "      <td>2016-04-14 08:48:26</td>\n",
       "      <td>2016-04-14 09:00:37</td>\n",
       "      <td>1</td>\n",
       "      <td>-73.994255</td>\n",
       "      <td>40.745804</td>\n",
       "      <td>-73.999657</td>\n",
       "      <td>40.723343</td>\n",
       "      <td>N</td>\n",
       "      <td>...</td>\n",
       "      <td>09:00:37</td>\n",
       "      <td>(40.74580383300781, -73.99425506591797)</td>\n",
       "      <td>(40.72334289550781, -73.9996566772461)</td>\n",
       "      <td>2.538672</td>\n",
       "      <td>3</td>\n",
       "      <td>Thursday</td>\n",
       "      <td>8</td>\n",
       "      <td>4</td>\n",
       "      <td>14</td>\n",
       "      <td>AM</td>\n",
       "    </tr>\n",
       "  </tbody>\n",
       "</table>\n",
       "<p>10 rows × 24 columns</p>\n",
       "</div>"
      ],
      "text/plain": [
       "           id  vendor_id     pickup_datetime    dropoff_datetime  \\\n",
       "0   id2875421          2 2016-03-14 17:24:55 2016-03-14 17:32:30   \n",
       "2   id3858529          2 2016-01-19 11:35:24 2016-01-19 12:10:48   \n",
       "4   id2181028          2 2016-03-26 13:30:55 2016-03-26 13:38:10   \n",
       "5   id0801584          2 2016-01-30 22:01:40 2016-01-30 22:09:03   \n",
       "7   id1324603          2 2016-05-21 07:54:58 2016-05-21 08:20:49   \n",
       "9   id0012891          2 2016-03-10 21:45:01 2016-03-10 22:05:26   \n",
       "11  id1299289          2 2016-05-15 11:16:11 2016-05-15 11:34:59   \n",
       "12  id1187965          2 2016-02-19 09:52:46 2016-02-19 10:11:20   \n",
       "16  id3379579          2 2016-04-11 17:29:50 2016-04-11 18:08:26   \n",
       "17  id1154431          1 2016-04-14 08:48:26 2016-04-14 09:00:37   \n",
       "\n",
       "    passenger_count  pickup_longitude  pickup_latitude  dropoff_longitude  \\\n",
       "0                 1        -73.982155        40.767937         -73.964630   \n",
       "2                 1        -73.979027        40.763939         -74.005333   \n",
       "4                 1        -73.973053        40.793209         -73.972923   \n",
       "5                 6        -73.982857        40.742195         -73.992081   \n",
       "7                 1        -73.969276        40.797779         -73.922470   \n",
       "9                 1        -73.981049        40.744339         -73.973000   \n",
       "11                4        -73.991531        40.749439         -73.956543   \n",
       "12                2        -73.962982        40.756680         -73.984406   \n",
       "16                1        -73.991165        40.755562         -73.999290   \n",
       "17                1        -73.994255        40.745804         -73.999657   \n",
       "\n",
       "    dropoff_latitude store_and_fwd_flag  ...  dropoff_time  \\\n",
       "0          40.765602                  N  ...      17:32:30   \n",
       "2          40.710087                  N  ...      12:10:48   \n",
       "4          40.782520                  N  ...      13:38:10   \n",
       "5          40.749184                  N  ...      22:09:03   \n",
       "7          40.760559                  N  ...      08:20:49   \n",
       "9          40.789989                  N  ...      22:05:26   \n",
       "11         40.770630                  N  ...      11:34:59   \n",
       "12         40.760719                  N  ...      10:11:20   \n",
       "16         40.725353                  N  ...      18:08:26   \n",
       "17         40.723343                  N  ...      09:00:37   \n",
       "\n",
       "                              pickup_longlat  \\\n",
       "0    (40.76793670654297, -73.98215484619139)   \n",
       "2   (40.763938903808594, -73.97902679443358)   \n",
       "4    (40.79320907592773, -73.97305297851562)   \n",
       "5     (40.74219512939453, -73.9828567504883)   \n",
       "7    (40.79777908325195, -73.96927642822266)   \n",
       "9    (40.74433898925781, -73.98104858398438)   \n",
       "11    (40.74943923950195, -73.9915313720703)   \n",
       "12    (40.7566795349121, -73.96298217773438)   \n",
       "16   (40.75556182861328, -73.99116516113281)   \n",
       "17   (40.74580383300781, -73.99425506591797)   \n",
       "\n",
       "                             dropoff_longlat  distance pickup_dayofweek  \\\n",
       "0   (40.765602111816406, -73.96463012695312)  1.498521                0   \n",
       "2    (40.71008682250977, -74.00533294677734)  6.385098                1   \n",
       "4     (40.78252029418945, -73.9729232788086)  1.188588                5   \n",
       "5   (40.749183654785156, -73.99208068847656)  1.098942                5   \n",
       "7    (40.76055908203125, -73.92247009277344)  5.714981                5   \n",
       "9     (40.78998947143555, -73.9729995727539)  5.121162                3   \n",
       "11       (40.7706298828125, -73.95654296875)  3.773096                6   \n",
       "12  (40.760719299316406, -73.98440551757811)  1.859483                4   \n",
       "16     (40.7253532409668, -73.9992904663086)  3.428086                0   \n",
       "17    (40.72334289550781, -73.9996566772461)  2.538672                3   \n",
       "\n",
       "   pickup_weekday_name pickup_hour  pickup_month  pickup_day shift  \n",
       "0               Monday          17             3          14    PM  \n",
       "2              Tuesday          11             1          19    AM  \n",
       "4             Saturday          13             3          26    AM  \n",
       "5             Saturday          22             1          30    PM  \n",
       "7             Saturday           7             5          21    AM  \n",
       "9             Thursday          21             3          10    PM  \n",
       "11              Sunday          11             5          15    AM  \n",
       "12              Friday           9             2          19    AM  \n",
       "16              Monday          17             4          11    PM  \n",
       "17            Thursday           8             4          14    AM  \n",
       "\n",
       "[10 rows x 24 columns]"
      ]
     },
     "execution_count": 32,
     "metadata": {},
     "output_type": "execute_result"
    }
   ],
   "source": [
    "#check if everything worked\n",
    "df.head(10)"
   ]
  },
  {
   "cell_type": "code",
   "execution_count": 33,
   "metadata": {},
   "outputs": [
    {
     "name": "stdout",
     "output_type": "stream",
     "text": [
      "shift\n",
      "AM   1482736.13491473183967173100\n",
      "PM   1956311.19213259010575711727\n",
      "Name: distance, dtype: float64\n"
     ]
    }
   ],
   "source": [
    "#compare the sums for each shift\n",
    "pd.options.display.float_format = '{:.20f}'.format\n",
    "shiftdis = df.groupby('shift')\n",
    "shiftdis = shiftdis['distance'].sum()\n",
    "print(shiftdis)"
   ]
  },
  {
   "cell_type": "code",
   "execution_count": null,
   "metadata": {},
   "outputs": [],
   "source": []
  },
  {
   "cell_type": "markdown",
   "metadata": {},
   "source": [
    "## My Hypotheses\n",
    "## h0 - there is no difference in the distance traveled between AM and PM shifts\n",
    "## h1 - there is a difference in the distance traveled between AM and PM shifts"
   ]
  },
  {
   "cell_type": "code",
   "execution_count": 34,
   "metadata": {},
   "outputs": [
    {
     "data": {
      "text/plain": [
       "0          False\n",
       "2           True\n",
       "4           True\n",
       "5          False\n",
       "7           True\n",
       "           ...  \n",
       "1458634     True\n",
       "1458637    False\n",
       "1458640     True\n",
       "1458641     True\n",
       "1458642     True\n",
       "Name: shift, Length: 999996, dtype: bool"
      ]
     },
     "execution_count": 34,
     "metadata": {},
     "output_type": "execute_result"
    }
   ],
   "source": [
    "#separting types by creating masks\n",
    "am_shift = df['shift'] == 'AM'\n",
    "am_shift"
   ]
  },
  {
   "cell_type": "code",
   "execution_count": 35,
   "metadata": {},
   "outputs": [
    {
     "data": {
      "text/plain": [
       "453973"
      ]
     },
     "execution_count": 35,
     "metadata": {},
     "output_type": "execute_result"
    }
   ],
   "source": [
    "#size of amshift and distance\n",
    "n_am = len(df[am_shift]['distance'])\n",
    "n_am"
   ]
  },
  {
   "cell_type": "code",
   "execution_count": 46,
   "metadata": {},
   "outputs": [
    {
     "data": {
      "text/plain": [
       "3.2661328645420142"
      ]
     },
     "execution_count": 46,
     "metadata": {},
     "output_type": "execute_result"
    }
   ],
   "source": [
    "df[am_shift]['distance'].mean()"
   ]
  },
  {
   "cell_type": "code",
   "execution_count": 37,
   "metadata": {},
   "outputs": [
    {
     "data": {
      "text/plain": [
       "4.047063421116454"
      ]
     },
     "execution_count": 37,
     "metadata": {},
     "output_type": "execute_result"
    }
   ],
   "source": [
    "df[am_shift]['distance'].std()"
   ]
  },
  {
   "cell_type": "code",
   "execution_count": 38,
   "metadata": {},
   "outputs": [
    {
     "data": {
      "text/plain": [
       "0           True\n",
       "2          False\n",
       "4          False\n",
       "5           True\n",
       "7          False\n",
       "           ...  \n",
       "1458634    False\n",
       "1458637     True\n",
       "1458640    False\n",
       "1458641    False\n",
       "1458642    False\n",
       "Name: shift, Length: 999996, dtype: bool"
      ]
     },
     "execution_count": 38,
     "metadata": {},
     "output_type": "execute_result"
    }
   ],
   "source": [
    "#pm mask\n",
    "pm_shift = df['shift'] == 'PM'\n",
    "pm_shift"
   ]
  },
  {
   "cell_type": "code",
   "execution_count": 39,
   "metadata": {},
   "outputs": [
    {
     "data": {
      "text/plain": [
       "546023"
      ]
     },
     "execution_count": 39,
     "metadata": {},
     "output_type": "execute_result"
    }
   ],
   "source": [
    "n_pm = len(df[pm_shift]['distance'])\n",
    "n_pm"
   ]
  },
  {
   "cell_type": "code",
   "execution_count": 40,
   "metadata": {},
   "outputs": [
    {
     "data": {
      "text/plain": [
       "3.5828366060268344"
      ]
     },
     "execution_count": 40,
     "metadata": {},
     "output_type": "execute_result"
    }
   ],
   "source": [
    "df[pm_shift]['distance'].mean()"
   ]
  },
  {
   "cell_type": "code",
   "execution_count": 41,
   "metadata": {},
   "outputs": [
    {
     "data": {
      "text/plain": [
       "4.718676377811621"
      ]
     },
     "execution_count": 41,
     "metadata": {},
     "output_type": "execute_result"
    }
   ],
   "source": [
    "df[pm_shift]['distance'].std()"
   ]
  },
  {
   "cell_type": "code",
   "execution_count": 47,
   "metadata": {},
   "outputs": [
    {
     "data": {
      "text/plain": [
       "Ttest_indResult(statistic=-36.12531137640677, pvalue=1.3918252161198493e-285)"
      ]
     },
     "execution_count": 47,
     "metadata": {},
     "output_type": "execute_result"
    }
   ],
   "source": [
    "#conduct the t-test\n",
    "stats.ttest_ind(df[am_shift]['distance'], df[pm_shift]['distance'], equal_var=False)"
   ]
  },
  {
   "cell_type": "code",
   "execution_count": 45,
   "metadata": {},
   "outputs": [
    {
     "name": "stdout",
     "output_type": "stream",
     "text": [
      "Sample does not look Gaussian (reject H0)\n"
     ]
    }
   ],
   "source": [
    "pvalue=1.3918252161198493e-285\n",
    "# interpret\n",
    "alpha = 0.05\n",
    "if pvalue > alpha:\n",
    "\tprint('Sample looks Gaussian (fail to reject H0)')\n",
    "else:\n",
    "\tprint('Sample does not look Gaussian (reject H0)')"
   ]
  },
  {
   "cell_type": "code",
   "execution_count": 44,
   "metadata": {},
   "outputs": [],
   "source": [
    "# df.to_csv('taxi_831.csv')"
   ]
  }
 ],
 "metadata": {
  "kernelspec": {
   "display_name": "Python 3.7.6 64-bit ('base': conda)",
   "language": "python",
   "name": "python37664bitbaseconda6a77b87aff024bd78bf8408db8b329e1"
  },
  "language_info": {
   "codemirror_mode": {
    "name": "ipython",
    "version": 3
   },
   "file_extension": ".py",
   "mimetype": "text/x-python",
   "name": "python",
   "nbconvert_exporter": "python",
   "pygments_lexer": "ipython3",
   "version": "3.7.6"
  }
 },
 "nbformat": 4,
 "nbformat_minor": 4
}
